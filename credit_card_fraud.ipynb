{
 "cells": [
  {
   "cell_type": "markdown",
   "id": "d7ce8352",
   "metadata": {},
   "source": [
    "## Credit Card Fraud Detection Project"
   ]
  },
  {
   "cell_type": "code",
   "execution_count": 1,
   "id": "8aacd0a9",
   "metadata": {},
   "outputs": [],
   "source": [
    "# Import the necessary modules\n",
    "\n",
    "import numpy as np\n",
    "import pandas as pd\n",
    "import matplotlib.pyplot as plt\n",
    "from collections import Counter\n",
    "import itertools\n",
    "\n",
    "from sklearn.preprocessing import StandardScaler\n",
    "from sklearn.model_selection import train_test_split\n",
    "from sklearn.ensemble import RandomForestClassifier\n",
    "from sklearn.tree import DecisionTreeClassifier\n",
    "from sklearn.metrics import accuracy_score, precision_score, confusion_matrix, recall_score, f1_score"
   ]
  },
  {
   "cell_type": "code",
   "execution_count": 4,
   "id": "aa0dca6f",
   "metadata": {
    "scrolled": true
   },
   "outputs": [
    {
     "data": {
      "text/html": [
       "<div>\n",
       "<style scoped>\n",
       "    .dataframe tbody tr th:only-of-type {\n",
       "        vertical-align: middle;\n",
       "    }\n",
       "\n",
       "    .dataframe tbody tr th {\n",
       "        vertical-align: top;\n",
       "    }\n",
       "\n",
       "    .dataframe thead th {\n",
       "        text-align: right;\n",
       "    }\n",
       "</style>\n",
       "<table border=\"1\" class=\"dataframe\">\n",
       "  <thead>\n",
       "    <tr style=\"text-align: right;\">\n",
       "      <th></th>\n",
       "      <th>Time</th>\n",
       "      <th>V1</th>\n",
       "      <th>V2</th>\n",
       "      <th>V3</th>\n",
       "      <th>V4</th>\n",
       "      <th>V5</th>\n",
       "      <th>V6</th>\n",
       "      <th>V7</th>\n",
       "      <th>V8</th>\n",
       "      <th>V9</th>\n",
       "      <th>...</th>\n",
       "      <th>V21</th>\n",
       "      <th>V22</th>\n",
       "      <th>V23</th>\n",
       "      <th>V24</th>\n",
       "      <th>V25</th>\n",
       "      <th>V26</th>\n",
       "      <th>V27</th>\n",
       "      <th>V28</th>\n",
       "      <th>Amount</th>\n",
       "      <th>Class</th>\n",
       "    </tr>\n",
       "  </thead>\n",
       "  <tbody>\n",
       "    <tr>\n",
       "      <th>0</th>\n",
       "      <td>0.0</td>\n",
       "      <td>-1.359807</td>\n",
       "      <td>-0.072781</td>\n",
       "      <td>2.536347</td>\n",
       "      <td>1.378155</td>\n",
       "      <td>-0.338321</td>\n",
       "      <td>0.462388</td>\n",
       "      <td>0.239599</td>\n",
       "      <td>0.098698</td>\n",
       "      <td>0.363787</td>\n",
       "      <td>...</td>\n",
       "      <td>-0.018307</td>\n",
       "      <td>0.277838</td>\n",
       "      <td>-0.110474</td>\n",
       "      <td>0.066928</td>\n",
       "      <td>0.128539</td>\n",
       "      <td>-0.189115</td>\n",
       "      <td>0.133558</td>\n",
       "      <td>-0.021053</td>\n",
       "      <td>149.62</td>\n",
       "      <td>0</td>\n",
       "    </tr>\n",
       "    <tr>\n",
       "      <th>1</th>\n",
       "      <td>0.0</td>\n",
       "      <td>1.191857</td>\n",
       "      <td>0.266151</td>\n",
       "      <td>0.166480</td>\n",
       "      <td>0.448154</td>\n",
       "      <td>0.060018</td>\n",
       "      <td>-0.082361</td>\n",
       "      <td>-0.078803</td>\n",
       "      <td>0.085102</td>\n",
       "      <td>-0.255425</td>\n",
       "      <td>...</td>\n",
       "      <td>-0.225775</td>\n",
       "      <td>-0.638672</td>\n",
       "      <td>0.101288</td>\n",
       "      <td>-0.339846</td>\n",
       "      <td>0.167170</td>\n",
       "      <td>0.125895</td>\n",
       "      <td>-0.008983</td>\n",
       "      <td>0.014724</td>\n",
       "      <td>2.69</td>\n",
       "      <td>0</td>\n",
       "    </tr>\n",
       "    <tr>\n",
       "      <th>2</th>\n",
       "      <td>1.0</td>\n",
       "      <td>-1.358354</td>\n",
       "      <td>-1.340163</td>\n",
       "      <td>1.773209</td>\n",
       "      <td>0.379780</td>\n",
       "      <td>-0.503198</td>\n",
       "      <td>1.800499</td>\n",
       "      <td>0.791461</td>\n",
       "      <td>0.247676</td>\n",
       "      <td>-1.514654</td>\n",
       "      <td>...</td>\n",
       "      <td>0.247998</td>\n",
       "      <td>0.771679</td>\n",
       "      <td>0.909412</td>\n",
       "      <td>-0.689281</td>\n",
       "      <td>-0.327642</td>\n",
       "      <td>-0.139097</td>\n",
       "      <td>-0.055353</td>\n",
       "      <td>-0.059752</td>\n",
       "      <td>378.66</td>\n",
       "      <td>0</td>\n",
       "    </tr>\n",
       "    <tr>\n",
       "      <th>3</th>\n",
       "      <td>1.0</td>\n",
       "      <td>-0.966272</td>\n",
       "      <td>-0.185226</td>\n",
       "      <td>1.792993</td>\n",
       "      <td>-0.863291</td>\n",
       "      <td>-0.010309</td>\n",
       "      <td>1.247203</td>\n",
       "      <td>0.237609</td>\n",
       "      <td>0.377436</td>\n",
       "      <td>-1.387024</td>\n",
       "      <td>...</td>\n",
       "      <td>-0.108300</td>\n",
       "      <td>0.005274</td>\n",
       "      <td>-0.190321</td>\n",
       "      <td>-1.175575</td>\n",
       "      <td>0.647376</td>\n",
       "      <td>-0.221929</td>\n",
       "      <td>0.062723</td>\n",
       "      <td>0.061458</td>\n",
       "      <td>123.50</td>\n",
       "      <td>0</td>\n",
       "    </tr>\n",
       "    <tr>\n",
       "      <th>4</th>\n",
       "      <td>2.0</td>\n",
       "      <td>-1.158233</td>\n",
       "      <td>0.877737</td>\n",
       "      <td>1.548718</td>\n",
       "      <td>0.403034</td>\n",
       "      <td>-0.407193</td>\n",
       "      <td>0.095921</td>\n",
       "      <td>0.592941</td>\n",
       "      <td>-0.270533</td>\n",
       "      <td>0.817739</td>\n",
       "      <td>...</td>\n",
       "      <td>-0.009431</td>\n",
       "      <td>0.798278</td>\n",
       "      <td>-0.137458</td>\n",
       "      <td>0.141267</td>\n",
       "      <td>-0.206010</td>\n",
       "      <td>0.502292</td>\n",
       "      <td>0.219422</td>\n",
       "      <td>0.215153</td>\n",
       "      <td>69.99</td>\n",
       "      <td>0</td>\n",
       "    </tr>\n",
       "  </tbody>\n",
       "</table>\n",
       "<p>5 rows × 31 columns</p>\n",
       "</div>"
      ],
      "text/plain": [
       "   Time        V1        V2        V3        V4        V5        V6        V7  \\\n",
       "0   0.0 -1.359807 -0.072781  2.536347  1.378155 -0.338321  0.462388  0.239599   \n",
       "1   0.0  1.191857  0.266151  0.166480  0.448154  0.060018 -0.082361 -0.078803   \n",
       "2   1.0 -1.358354 -1.340163  1.773209  0.379780 -0.503198  1.800499  0.791461   \n",
       "3   1.0 -0.966272 -0.185226  1.792993 -0.863291 -0.010309  1.247203  0.237609   \n",
       "4   2.0 -1.158233  0.877737  1.548718  0.403034 -0.407193  0.095921  0.592941   \n",
       "\n",
       "         V8        V9  ...       V21       V22       V23       V24       V25  \\\n",
       "0  0.098698  0.363787  ... -0.018307  0.277838 -0.110474  0.066928  0.128539   \n",
       "1  0.085102 -0.255425  ... -0.225775 -0.638672  0.101288 -0.339846  0.167170   \n",
       "2  0.247676 -1.514654  ...  0.247998  0.771679  0.909412 -0.689281 -0.327642   \n",
       "3  0.377436 -1.387024  ... -0.108300  0.005274 -0.190321 -1.175575  0.647376   \n",
       "4 -0.270533  0.817739  ... -0.009431  0.798278 -0.137458  0.141267 -0.206010   \n",
       "\n",
       "        V26       V27       V28  Amount  Class  \n",
       "0 -0.189115  0.133558 -0.021053  149.62      0  \n",
       "1  0.125895 -0.008983  0.014724    2.69      0  \n",
       "2 -0.139097 -0.055353 -0.059752  378.66      0  \n",
       "3 -0.221929  0.062723  0.061458  123.50      0  \n",
       "4  0.502292  0.219422  0.215153   69.99      0  \n",
       "\n",
       "[5 rows x 31 columns]"
      ]
     },
     "execution_count": 4,
     "metadata": {},
     "output_type": "execute_result"
    }
   ],
   "source": [
    "# Load the csv file\n",
    "\n",
    "dataframe = pd.read_csv(r\"C:\\Users\\samar\\Project\\credit-card-fraud-python-ml-code/creditcard.csv\")\n",
    "dataframe.head()"
   ]
  },
  {
   "cell_type": "markdown",
   "id": "063a8acc",
   "metadata": {},
   "source": [
    "### Perform Exploratory Data Analysis"
   ]
  },
  {
   "cell_type": "code",
   "execution_count": 5,
   "id": "23e4756b",
   "metadata": {},
   "outputs": [
    {
     "name": "stdout",
     "output_type": "stream",
     "text": [
      "<class 'pandas.core.frame.DataFrame'>\n",
      "RangeIndex: 284807 entries, 0 to 284806\n",
      "Data columns (total 31 columns):\n",
      " #   Column  Non-Null Count   Dtype  \n",
      "---  ------  --------------   -----  \n",
      " 0   Time    284807 non-null  float64\n",
      " 1   V1      284807 non-null  float64\n",
      " 2   V2      284807 non-null  float64\n",
      " 3   V3      284807 non-null  float64\n",
      " 4   V4      284807 non-null  float64\n",
      " 5   V5      284807 non-null  float64\n",
      " 6   V6      284807 non-null  float64\n",
      " 7   V7      284807 non-null  float64\n",
      " 8   V8      284807 non-null  float64\n",
      " 9   V9      284807 non-null  float64\n",
      " 10  V10     284807 non-null  float64\n",
      " 11  V11     284807 non-null  float64\n",
      " 12  V12     284807 non-null  float64\n",
      " 13  V13     284807 non-null  float64\n",
      " 14  V14     284807 non-null  float64\n",
      " 15  V15     284807 non-null  float64\n",
      " 16  V16     284807 non-null  float64\n",
      " 17  V17     284807 non-null  float64\n",
      " 18  V18     284807 non-null  float64\n",
      " 19  V19     284807 non-null  float64\n",
      " 20  V20     284807 non-null  float64\n",
      " 21  V21     284807 non-null  float64\n",
      " 22  V22     284807 non-null  float64\n",
      " 23  V23     284807 non-null  float64\n",
      " 24  V24     284807 non-null  float64\n",
      " 25  V25     284807 non-null  float64\n",
      " 26  V26     284807 non-null  float64\n",
      " 27  V27     284807 non-null  float64\n",
      " 28  V28     284807 non-null  float64\n",
      " 29  Amount  284807 non-null  float64\n",
      " 30  Class   284807 non-null  int64  \n",
      "dtypes: float64(30), int64(1)\n",
      "memory usage: 67.4 MB\n"
     ]
    }
   ],
   "source": [
    "dataframe.info()"
   ]
  },
  {
   "cell_type": "code",
   "execution_count": 6,
   "id": "3a684d95",
   "metadata": {},
   "outputs": [
    {
     "data": {
      "text/plain": [
       "False"
      ]
     },
     "execution_count": 6,
     "metadata": {},
     "output_type": "execute_result"
    }
   ],
   "source": [
    "# Check for null values\n",
    "\n",
    "dataframe.isnull().values.any()"
   ]
  },
  {
   "cell_type": "code",
   "execution_count": 7,
   "id": "109a3031",
   "metadata": {},
   "outputs": [
    {
     "data": {
      "text/plain": [
       "count    284807.000000\n",
       "mean         88.349619\n",
       "std         250.120109\n",
       "min           0.000000\n",
       "25%           5.600000\n",
       "50%          22.000000\n",
       "75%          77.165000\n",
       "max       25691.160000\n",
       "Name: Amount, dtype: float64"
      ]
     },
     "execution_count": 7,
     "metadata": {},
     "output_type": "execute_result"
    }
   ],
   "source": [
    "dataframe[\"Amount\"].describe()"
   ]
  },
  {
   "cell_type": "code",
   "execution_count": 8,
   "id": "009b1c38",
   "metadata": {},
   "outputs": [
    {
     "name": "stdout",
     "output_type": "stream",
     "text": [
      "Number of Genuine transactions:  284315\n",
      "Number of Fraud transactions:  492\n",
      "Percentage of Fraud transactions: 0.1727\n"
     ]
    }
   ],
   "source": [
    "non_fraud = len(dataframe[dataframe.Class == 0])\n",
    "fraud = len(dataframe[dataframe.Class == 1])\n",
    "fraud_percent = (fraud / (fraud + non_fraud)) * 100\n",
    "\n",
    "print(\"Number of Genuine transactions: \", non_fraud)\n",
    "print(\"Number of Fraud transactions: \", fraud)\n",
    "print(\"Percentage of Fraud transactions: {:.4f}\".format(fraud_percent))"
   ]
  },
  {
   "cell_type": "code",
   "execution_count": 9,
   "id": "95fd441a",
   "metadata": {},
   "outputs": [
    {
     "data": {
      "image/png": "[encoded data removed]",
      "text/plain": [
       "<Figure size 640x480 with 1 Axes>"
      ]
     },
     "metadata": {},
     "output_type": "display_data"
    }
   ],
   "source": [
    "# Visualize the \"Labels\" column in our dataset\n",
    "\n",
    "labels = [\"Genuine\", \"Fraud\"]\n",
    "count_classes = dataframe.value_counts(dataframe['Class'], sort= True)\n",
    "count_classes.plot(kind = \"bar\", rot = 0)\n",
    "plt.title(\"Visualization of Labels\")\n",
    "plt.ylabel(\"Count\")\n",
    "plt.xticks(range(2), labels)\n",
    "plt.show()"
   ]
  },
  {
   "cell_type": "code",
   "execution_count": 10,
   "id": "0c17ab9b",
   "metadata": {},
   "outputs": [],
   "source": [
    "# Perform Scaling\n",
    "scaler = StandardScaler()\n",
    "dataframe[\"NormalizedAmount\"] = scaler.fit_transform(dataframe[\"Amount\"].values.reshape(-1, 1))\n",
    "dataframe.drop([\"Amount\", \"Time\"], inplace= True, axis= 1)\n",
    "\n",
    "Y = dataframe[\"Class\"]\n",
    "X = dataframe.drop([\"Class\"], axis= 1)"
   ]
  },
  {
   "cell_type": "code",
   "execution_count": 9,
   "id": "f3f75251",
   "metadata": {},
   "outputs": [
    {
     "data": {
      "text/plain": [
       "0    0\n",
       "1    0\n",
       "2    0\n",
       "3    0\n",
       "4    0\n",
       "Name: Class, dtype: int64"
      ]
     },
     "execution_count": 9,
     "metadata": {},
     "output_type": "execute_result"
    }
   ],
   "source": [
    "Y.head()"
   ]
  },
  {
   "cell_type": "code",
   "execution_count": 10,
   "id": "08d72aae",
   "metadata": {},
   "outputs": [
    {
     "name": "stdout",
     "output_type": "stream",
     "text": [
      "Shape of train_X:  (199364, 29)\n",
      "Shape of test_X:  (85443, 29)\n"
     ]
    }
   ],
   "source": [
    "# Split the data\n",
    "(train_X, test_X, train_Y, test_Y) = train_test_split(X, Y, test_size= 0.3, random_state= 42)\n",
    "\n",
    "print(\"Shape of train_X: \", train_X.shape)\n",
    "print(\"Shape of test_X: \", test_X.shape)"
   ]
  },
  {
   "cell_type": "markdown",
   "id": "96deee6b",
   "metadata": {},
   "source": [
    "Let's train different models on our dataset and observe which algorithm works better for our problem.\n",
    "\n",
    "Let's apply Random Forests and Decision Trees algorithms to our dataset."
   ]
  },
  {
   "cell_type": "code",
   "execution_count": 11,
   "id": "2ec9ab7e",
   "metadata": {},
   "outputs": [],
   "source": [
    "# Decision Tree Classifier\n",
    "decision_tree = DecisionTreeClassifier()\n",
    "decision_tree.fit(train_X, train_Y)\n",
    "\n",
    "predictions_dt = decision_tree.predict(test_X)\n",
    "decision_tree_score = decision_tree.score(test_X, test_Y) * 100"
   ]
  },
  {
   "cell_type": "code",
   "execution_count": 12,
   "id": "6a6d33ea",
   "metadata": {},
   "outputs": [],
   "source": [
    "# Random Forest\n",
    "random_forest = RandomForestClassifier(n_estimators= 100)\n",
    "random_forest.fit(train_X, train_Y)\n",
    "\n",
    "predictions_rf = random_forest.predict(test_X)\n",
    "random_forest_score = random_forest.score(test_X, test_Y) * 100"
   ]
  },
  {
   "cell_type": "code",
   "execution_count": 13,
   "id": "268379be",
   "metadata": {},
   "outputs": [
    {
     "name": "stdout",
     "output_type": "stream",
     "text": [
      "RF:  99.96254813150287\n",
      "DT:  99.92275552122467\n"
     ]
    }
   ],
   "source": [
    "# Print scores of our classifiers\n",
    "\n",
    "print(\"Random Forest Score: \", random_forest_score)\n",
    "print(\"Decision Tree Score: \", decision_tree_score)"
   ]
  },
  {
   "cell_type": "code",
   "execution_count": 14,
   "id": "adf6ead7",
   "metadata": {},
   "outputs": [],
   "source": [
    "# The below function is directly taken from the scikit-learn website to plot the confusion matrix\n",
    "\n",
    "def plot_confusion_matrix(cm, classes, normalize=False, title='Confusion Matrix', cmap=plt.cm.Blues):\n",
    "    \"\"\"\n",
    "    This function prints and plots the confusion matrix.\n",
    "    Normalization can be applied by setting `normalize=True`.\n",
    "    \"\"\"\n",
    "    if normalize:\n",
    "        cm = cm.astype('float') / cm.sum(axis=1)[:, np.newaxis]\n",
    "        print(\"Normalized confusion matrix\")\n",
    "    else:\n",
    "        print('Confusion matrix, without normalization')\n",
    "\n",
    "    plt.imshow(cm, interpolation='nearest', cmap=cmap)\n",
    "    plt.title(title)\n",
    "    plt.colorbar()\n",
    "    tick_marks = np.arange(len(classes))\n",
    "    plt.xticks(tick_marks, classes, rotation=0)\n",
    "    plt.yticks(tick_marks, classes)\n",
    "\n",
    "    fmt = '.2f' if normalize else 'd'\n",
    "    thresh = cm.max() / 2.\n",
    "    for i, j in itertools.product(range(cm.shape[0]), range(cm.shape[1])):\n",
    "        plt.text(j, i, format(cm[i, j], fmt), horizontalalignment=\"center\", color=\"white\" if cm[i, j] > thresh else \"black\")\n",
    "\n",
    "    plt.ylabel('True label')\n",
    "    plt.xlabel('Predicted label')\n",
    "    plt.tight_layout()\n",
    "\n"
   ]
  },
  {
   "cell_type": "code",
   "execution_count": 22,
   "id": "0cc73768",
   "metadata": {},
   "outputs": [
    {
     "name": "stdout",
     "output_type": "stream",
     "text": [
      "Confusion Matrix - Decision Tree\n",
      "[[85265    42]\n",
      " [   24   112]]\n"
     ]
    }
   ],
   "source": [
    "# Plot confusion matrix for Decision Trees\n",
    "\n",
    "confusion_matrix_dt = confusion_matrix(test_Y, predictions_dt.round())\n",
    "print(\"Confusion Matrix - Decision Tree\")\n",
    "print(confusion_matrix_dt)"
   ]
  },
  {
   "cell_type": "code",
   "execution_count": 18,
   "id": "6f6d3027",
   "metadata": {},
   "outputs": [
    {
     "name": "stdout",
     "output_type": "stream",
     "text": [
      "Confusion matrix, without normalization\n"
     ]
    },
    {
     "data": {
      "image/png": "[encoded data removed]",
      "text/plain": [
       "<Figure size 432x288 with 2 Axes>"
      ]
     },
     "metadata": {
      "needs_background": "light"
     },
     "output_type": "display_data"
    }
   ],
   "source": [
    "plot_confusion_matrix(confusion_matrix_dt, classes=[0, 1], title= \"Confusion Matrix - Decision Tree\")"
   ]
  },
  {
   "cell_type": "code",
   "execution_count": 20,
   "id": "07c23d0a",
   "metadata": {},
   "outputs": [
    {
     "name": "stdout",
     "output_type": "stream",
     "text": [
      "Confusion Matrix - Random Forest\n",
      "[[85300     7]\n",
      " [   25   111]]\n"
     ]
    }
   ],
   "source": [
    "# Plot confusion matrix for Random Forests\n",
    "\n",
    "confusion_matrix_rf = confusion_matrix(test_Y, predictions_rf.round())\n",
    "print(\"Confusion Matrix - Random Forest\")\n",
    "print(confusion_matrix_rf)"
   ]
  },
  {
   "cell_type": "code",
   "execution_count": 23,
   "id": "65f9da07",
   "metadata": {},
   "outputs": [
    {
     "name": "stdout",
     "output_type": "stream",
     "text": [
      "Confusion matrix, without normalization\n"
     ]
    },
    {
     "data": {
      "image/png": "[encoded data removed]",
      "text/plain": [
       "<Figure size 432x288 with 2 Axes>"
      ]
     },
     "metadata": {
      "needs_background": "light"
     },
     "output_type": "display_data"
    }
   ],
   "source": [
    "plot_confusion_matrix(confusion_matrix_rf, classes=[0, 1], title= \"Confusion Matrix - Random Forest\")"
   ]
  },
  {
   "cell_type": "code",
   "execution_count": 24,
   "id": "5246baf8",
   "metadata": {},
   "outputs": [],
   "source": [
    "# The below function prints the following necesary metrics\n",
    "\n",
    "def metrics(actuals, predictions):\n",
    "    print(\"Accuracy: {:.5f}\".format(accuracy_score(actuals, predictions)))\n",
    "    print(\"Precision: {:.5f}\".format(precision_score(actuals, predictions)))\n",
    "    print(\"Recall: {:.5f}\".format(recall_score(actuals, predictions)))\n",
    "    print(\"F1-score: {:.5f}\".format(f1_score(actuals, predictions)))\n",
    "    "
   ]
  },
  {
   "cell_type": "code",
   "execution_count": 25,
   "id": "cb45ff83",
   "metadata": {},
   "outputs": [
    {
     "name": "stdout",
     "output_type": "stream",
     "text": [
      "Evaluation of Decision Tree Model\n",
      "\n",
      "Accuracy: 0.99923\n",
      "Precision: 0.72727\n",
      "Recall: 0.82353\n",
      "F1-score: 0.77241\n"
     ]
    }
   ],
   "source": [
    "print(\"Evaluation of Decision Tree Model\")\n",
    "print()\n",
    "metrics(test_Y, predictions_dt.round())"
   ]
  },
  {
   "cell_type": "code",
   "execution_count": 26,
   "id": "fb90440b",
   "metadata": {},
   "outputs": [
    {
     "name": "stdout",
     "output_type": "stream",
     "text": [
      "Evaluation of Random Forest Model\n",
      "\n",
      "Accuracy: 0.99963\n",
      "Precision: 0.94068\n",
      "Recall: 0.81618\n",
      "F1-score: 0.87402\n"
     ]
    }
   ],
   "source": [
    "print(\"Evaluation of Random Forest Model\")\n",
    "print()\n",
    "metrics(test_Y, predictions_rf.round())"
   ]
  },
  {
   "cell_type": "markdown",
   "id": "2ea205b5",
   "metadata": {},
   "source": [
    "Clearly, Random Forest model works better than Decision Trees"
   ]
  },
  {
   "cell_type": "code",
   "execution_count": 27,
   "id": "99cae818",
   "metadata": {},
   "outputs": [
    {
     "name": "stdout",
     "output_type": "stream",
     "text": [
      "Resampled shape of X:  (568630, 29)\n",
      "Resampled shape of Y:  (568630,)\n",
      "Counter({0: 284315, 1: 284315})\n"
     ]
    }
   ],
   "source": [
    "# Performing oversampling on RF and DT\n",
    "\n",
    "from imblearn.over_sampling import SMOTE\n",
    "\n",
    "X_resampled, Y_resampled = SMOTE().fit_resample(X, Y)\n",
    "print(\"Resampled shape of X: \", X_resampled.shape)\n",
    "print(\"Resampled shape of Y: \", Y_resampled.shape)\n",
    "\n",
    "value_counts = Counter(Y_resampled)\n",
    "print(value_counts)\n",
    "\n",
    "(train_X, test_X, train_Y, test_Y) = train_test_split(X_resampled, Y_resampled, test_size= 0.3, random_state= 42)"
   ]
  },
  {
   "cell_type": "code",
   "execution_count": 35,
   "id": "a6e01a48",
   "metadata": {},
   "outputs": [],
   "source": [
    "# Build the Random Forest classifier on the new dataset\n",
    "\n",
    "rf_resampled = RandomForestClassifier(n_estimators = 100)\n",
    "rf_resampled.fit(train_X, train_Y)\n",
    "\n",
    "predictions_resampled = rf_resampled.predict(test_X)\n",
    "random_forest_score_resampled = rf_resampled.score(test_X, test_Y) * 100"
   ]
  },
  {
   "cell_type": "code",
   "execution_count": 36,
   "id": "dfa4b7d8",
   "metadata": {},
   "outputs": [
    {
     "name": "stdout",
     "output_type": "stream",
     "text": [
      "Confusion Matrix - Random Forest\n",
      "[[85129    20]\n",
      " [    0 85440]]\n"
     ]
    }
   ],
   "source": [
    "# Visualize the confusion matrix\n",
    "\n",
    "cm_resampled = confusion_matrix(test_Y, y_predict.round())\n",
    "print(\"Confusion Matrix - Random Forest\")\n",
    "print(cm_resampled)"
   ]
  },
  {
   "cell_type": "code",
   "execution_count": 37,
   "id": "345c1b9b",
   "metadata": {},
   "outputs": [
    {
     "name": "stdout",
     "output_type": "stream",
     "text": [
      "Confusion matrix, without normalization\n"
     ]
    },
    {
     "data": {
      "image/png": "[encoded data removed]",
      "text/plain": [
       "<Figure size 432x288 with 2 Axes>"
      ]
     },
     "metadata": {
      "needs_background": "light"
     },
     "output_type": "display_data"
    }
   ],
   "source": [
    "plot_confusion_matrix(cm_resampled, classes=[0, 1], title= \"Confusion Matrix - Random Forest After Oversampling\")"
   ]
  },
  {
   "cell_type": "code",
   "execution_count": 38,
   "id": "ac57001a",
   "metadata": {},
   "outputs": [
    {
     "name": "stdout",
     "output_type": "stream",
     "text": [
      "Evaluation of Random Forest Model\n",
      "\n",
      "Accuracy: 0.99989\n",
      "Precision: 0.99978\n",
      "Recall: 1.00000\n",
      "F1-score: 0.99989\n"
     ]
    }
   ],
   "source": [
    "print(\"Evaluation of Random Forest Model\")\n",
    "print()\n",
    "metrics(test_Y, predictions_resampled.round())"
   ]
  }
 ],
 "metadata": {
  "kernelspec": {
   "display_name": "Python 3 (ipykernel)",
   "language": "python",
   "name": "python3"
  },
  "language_info": {
   "codemirror_mode": {
    "name": "ipython",
    "version": 3
   },
   "file_extension": ".py",
   "mimetype": "text/x-python",
   "name": "python",
   "nbconvert_exporter": "python",
   "pygments_lexer": "ipython3",
   "version": "3.11.7"
  }
 },
 "nbformat": 4,
 "nbformat_minor": 5
}
